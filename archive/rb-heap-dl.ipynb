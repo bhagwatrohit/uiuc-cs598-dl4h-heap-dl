{
  "cells":[
    {
      "cell_type":"markdown",
      "source":[
        "# Load Data\n",
        "\n",
        "- Load Training (and Test) Data\n",
        "- Drop columns not required\n",
        "- Add derived features\n",
        "- Aggregate data - to be used for training "
      ],
      "attachments":{
        
      },
      "metadata":{
        
      }
    },
    {
      "cell_type":"code",
      "source":[
        "import pandas as pd\n",
        "import numpy as np\n",
        "import matplotlib.pyplot as plt\n",
        "import seaborn as sns\n",
        "%matplotlib inline\n",
        "import torch \n",
        "from functools import reduce"
      ],
      "attachments":{
        
      },
      "execution_count":13,
      "outputs":[
        
      ],
      "metadata":{
        
      }
    },
    {
      "cell_type":"code",
      "source":[
        "DATA_PATH='\/data\/workspace_files\/iqvia_data\/'\n",
        "# DATA_PATH='\/Users\/a206602774\/Downloads\/OneDrive_1_4-14-2021\/'\n",
        "\n",
        "\n",
        "c_all_columns = ['pat_id', 'claimno', 'linenum', 'rectype', 'tos_flag', 'pos', 'conf_num'\n",
        "               , 'patstat', 'billtype', 'ndc', 'daw', 'formulary', 'dayssup', 'quan', 'proc_cde'\n",
        "               , 'cpt_mod', 'rev_code', 'srv_unit', 'from_dt', 'to_dt', 'diagprc_ind', 'diag_admit'\n",
        "               , 'diag1', 'diag2', 'diag3', 'diag4', 'diag5', 'diag6', 'diag7', 'diag8', 'diag9', 'diag10'\n",
        "               , 'diag11', 'diag12', 'icdprc1', 'icdprc2', 'icdprc3', 'icdprc4', 'icdprc5', 'icdprc6', 'icdprc7'\n",
        "               , 'icdprc8', 'icdprc9', 'icdprc10', 'icdprc11', 'icdprc12'\n",
        "               , 'charge', 'allowed', 'paid', 'deductible', 'copay', 'coinsamt', 'cobamt', 'dispense_fee'\n",
        "               , 'bill_spec', 'rend_spec', 'prscbr_spec', 'att_spec', 'pcp_spec', 'ref_spec'\n",
        "               , 'ptypeflg', 'sub_tp_cd', 'pmt_st_cd', 'paid_dt']\n",
        "\n",
        "c_drop_columns = ['linenum','patstat','billtype','daw','dayssup','cpt_mod','diagprc_ind','allowed'\n",
        "                , 'coinsamt','cobamt','bill_id','rend_id','rend_spec','prscbr_id','att_id'\n",
        "                , 'att_spec','pcp_id','ref_id','ref_spec','estring','clm_frst','clm_last'\n",
        "                , 'nbr_clm_lines','enr_frst','enr_last','mon_totl','mxce_fst','mxce_lst'\n",
        "                , 'patient_id_synth','pat_Zip3','enr_rel','string_type','string_value', 'claimno'\n",
        "                , 'diag4','diag5','diag6','diag7','diag8','diag9','diag10','diag11','diag12'\n",
        "                , 'icdprc4','icdprc5','icdprc6','icdprc7','icdprc8','icdprc9','icdprc10','icdprc11','icdprc12'\n",
        "                , 'grp_indv_cd','mh_cd', 'sub_tp_cd', 'ptypeflg', 'tos_flag', 'rev_code', 'srv_unit'\n",
        "                , 'pcp_spec', 'charge', 'deductible']\n",
        "selected_columns = ['pat_id', 'rectype', 'pos', 'conf_num', 'ndc', 'formulary', 'quan', 'proc_cde'\n",
        "                   , 'from_dt', 'to_dt', 'diag_admit', 'diag1', 'diag2', 'diag3', 'icdprc1'\n",
        "                   , 'icdprc2', 'icdprc3', 'paid', 'copay', 'dispense_fee', 'bill_spec'\n",
        "                   , 'prscbr_spec', 'pmt_st_cd', 'paid_dt']\n",
        "group_by_columns = ['pat_id', 'from_dt', 'to_dt', 'rectype', 'conf_num', 'icdprc1'\n",
        "                    ,'diag_admit', 'diag1', 'proc_cde', 'bill_spec', 'pos', 'ndc', 'quan'\n",
        "                    ,'formulary', 'paid_dt', 'pmt_st_cd']\n",
        "date_columns = ['from_dt', 'to_dt', 'paid_dt']\n",
        "char_columns = ['pat_id', 'rectype', 'conf_num', 'icdprc1', 'diag_admit', 'diag1'\n",
        "                , 'proc_cde', 'bill_spec', 'pos', 'ndc', 'formulary', 'pmt_st_cd']\n",
        "\n",
        "#pat_age_group\n",
        "#(0) 0 - 10 | (1) 11 - 20 | (2) 21 - 30 | (3) 31-40 | .... () 80 -84....\n",
        "\n",
        "cat_features = ['rectype', 'icdprc1', 'diag_admit', 'diag1', 'proc_cde', 'bill_spec'\n",
        "                , 'pos', 'ndc', 'formulary', 'der_sex', ] #pat_age_group\n",
        "numerical_columns = ['quan', 'paid', 'copay', 'dispense_fee', 'pat_age']\n",
        "target_columns = ['paid', 'copay', 'dispense_fee']\n",
        "\n",
        "e_selected_columns = ['der_sex', 'der_yob', 'pat_id', 'pat_state']\n",
        "e2_selected_columns = ['pat_id', 'mh_cd']\n",
        "\n",
        "dtype = {}\n",
        "for column in selected_columns:\n",
        "    if column in date_columns:\n",
        "        dtype[column] = 'object'\n",
        "        pass\n",
        "    elif column in numerical_columns:\n",
        "        dtype[column] = 'float64'\n",
        "    else:\n",
        "        dtype[column] = 'str'"
      ],
      "attachments":{
        
      },
      "execution_count":6,
      "outputs":[
        
      ],
      "metadata":{
        
      }
    },
    {
      "cell_type":"code",
      "source":[
        "def custom_fill_na(df):\n",
        "    for col in df:\n",
        "        #get dtype for column\n",
        "        dt = df[col].dtype \n",
        "        #check if it is a number\n",
        "        if dt == int or dt == float:\n",
        "            df[col].fillna(0, inplace=True)\n",
        "        else:\n",
        "            df[col].fillna(\"\", inplace=True)"
      ],
      "attachments":{
        
      },
      "execution_count":7,
      "outputs":[
        
      ],
      "metadata":{
        
      }
    },
    {
      "cell_type":"code",
      "source":[
        "def load_data():\n",
        "    # Load Claims_15 data (revisit later)\n",
        "    claims_15 = pd.read_table(DATA_PATH+\"claims_2015.dat\", delimiter=\"|\"\n",
        "                              , usecols = selected_columns\n",
        "                              , dtype = dtype)\n",
        "    custom_fill_na(claims_15)\n",
        "    \n",
        "    enroll = pd.read_table(DATA_PATH+\"enroll_synth.dat\",delimiter=\"|\", usecols = e_selected_columns)\n",
        "    # enroll2 = pd.read_table(DATA_PATH+\"enroll2.dat\",delimiter=\"|\", usecols = e2_selected_columns)\n",
        "\n",
        "    # Created aggregate dataset for training\n",
        "    train = claims_15.groupby(group_by_columns).sum().reset_index()\n",
        "    # Data type cleanup and calculate derived columns \n",
        "    for column in date_columns: \n",
        "        train[column] = pd.to_datetime(train[column])\n",
        "        \n",
        "    # Merge Dataframes (add enroll2 later)\n",
        "    data_frames = [train, enroll]\n",
        "    train = reduce(lambda  left,right: pd.merge(left,right,on=['pat_id'],how='inner'), data_frames)\n",
        "\n",
        "    # Derived columns \n",
        "    train['duration'] = train['to_dt'] - train['from_dt']\n",
        "    train['pat_age'] = train['to_dt'].dt.year - train['der_yob']\n",
        "    train['pat_age'].mask(train['pat_age'] > 120, 0, inplace=True)    \n",
        "    return train"
      ],
      "attachments":{
        
      },
      "execution_count":55,
      "outputs":[
        
      ],
      "metadata":{
        
      }
    },
    {
      "cell_type":"code",
      "source":[
        "train = load_data()"
      ],
      "attachments":{
        
      },
      "execution_count":62,
      "outputs":[
        
      ],
      "metadata":{
        
      }
    },
    {
      "cell_type":"code",
      "source":[
        "train"
      ],
      "attachments":{
        
      },
      "execution_count":57,
      "outputs":[
        {
          "data":{
            "text\/html":[
              "<div>\n",
              "<style scoped>\n",
              "    .dataframe tbody tr th:only-of-type {\n",
              "        vertical-align: middle;\n",
              "    }\n",
              "\n",
              "    .dataframe tbody tr th {\n",
              "        vertical-align: top;\n",
              "    }\n",
              "\n",
              "    .dataframe thead th {\n",
              "        text-align: right;\n",
              "    }\n",
              "<\/style>\n",
              "<table border=\"1\" class=\"dataframe\">\n",
              "  <thead>\n",
              "    <tr style=\"text-align: right;\">\n",
              "      <th><\/th>\n",
              "      <th>pat_id<\/th>\n",
              "      <th>from_dt<\/th>\n",
              "      <th>to_dt<\/th>\n",
              "      <th>rectype<\/th>\n",
              "      <th>conf_num<\/th>\n",
              "      <th>icdprc1<\/th>\n",
              "      <th>diag_admit<\/th>\n",
              "      <th>diag1<\/th>\n",
              "      <th>proc_cde<\/th>\n",
              "      <th>bill_spec<\/th>\n",
              "      <th>...<\/th>\n",
              "      <th>paid_dt<\/th>\n",
              "      <th>pmt_st_cd<\/th>\n",
              "      <th>paid<\/th>\n",
              "      <th>copay<\/th>\n",
              "      <th>dispense_fee<\/th>\n",
              "      <th>der_sex<\/th>\n",
              "      <th>der_yob<\/th>\n",
              "      <th>pat_state<\/th>\n",
              "      <th>duration<\/th>\n",
              "      <th>pat_age<\/th>\n",
              "    <\/tr>\n",
              "  <\/thead>\n",
              "  <tbody>\n",
              "    <tr>\n",
              "      <th>0<\/th>\n",
              "      <td>0309AAAAAAAABEUP<\/td>\n",
              "      <td>2015-01-02<\/td>\n",
              "      <td>2015-01-02<\/td>\n",
              "      <td>M<\/td>\n",
              "      <td><\/td>\n",
              "      <td><\/td>\n",
              "      <td><\/td>\n",
              "      <td>7391<\/td>\n",
              "      <td>98941<\/td>\n",
              "      <td>CHIRO<\/td>\n",
              "      <td>...<\/td>\n",
              "      <td>2015-02-01<\/td>\n",
              "      <td>P<\/td>\n",
              "      <td>0.00<\/td>\n",
              "      <td>0.0<\/td>\n",
              "      <td>0.0<\/td>\n",
              "      <td>F<\/td>\n",
              "      <td>1996.0<\/td>\n",
              "      <td>MN<\/td>\n",
              "      <td>0 days<\/td>\n",
              "      <td>19.0<\/td>\n",
              "    <\/tr>\n",
              "    <tr>\n",
              "      <th>1<\/th>\n",
              "      <td>0309AAAAAAAABEUP<\/td>\n",
              "      <td>2015-01-05<\/td>\n",
              "      <td>2015-01-05<\/td>\n",
              "      <td>M<\/td>\n",
              "      <td><\/td>\n",
              "      <td><\/td>\n",
              "      <td><\/td>\n",
              "      <td>7391<\/td>\n",
              "      <td>98941<\/td>\n",
              "      <td>CHIRO<\/td>\n",
              "      <td>...<\/td>\n",
              "      <td>2015-02-04<\/td>\n",
              "      <td>P<\/td>\n",
              "      <td>0.00<\/td>\n",
              "      <td>0.0<\/td>\n",
              "      <td>0.0<\/td>\n",
              "      <td>F<\/td>\n",
              "      <td>1996.0<\/td>\n",
              "      <td>MN<\/td>\n",
              "      <td>0 days<\/td>\n",
              "      <td>19.0<\/td>\n",
              "    <\/tr>\n",
              "    <tr>\n",
              "      <th>2<\/th>\n",
              "      <td>0309AAAAAAAABEUP<\/td>\n",
              "      <td>2015-01-20<\/td>\n",
              "      <td>2015-01-20<\/td>\n",
              "      <td>M<\/td>\n",
              "      <td><\/td>\n",
              "      <td><\/td>\n",
              "      <td><\/td>\n",
              "      <td>4770<\/td>\n",
              "      <td>95117<\/td>\n",
              "      <td>ALLERGY<\/td>\n",
              "      <td>...<\/td>\n",
              "      <td>2015-02-19<\/td>\n",
              "      <td>P<\/td>\n",
              "      <td>0.00<\/td>\n",
              "      <td>0.0<\/td>\n",
              "      <td>0.0<\/td>\n",
              "      <td>F<\/td>\n",
              "      <td>1996.0<\/td>\n",
              "      <td>MN<\/td>\n",
              "      <td>0 days<\/td>\n",
              "      <td>19.0<\/td>\n",
              "    <\/tr>\n",
              "    <tr>\n",
              "      <th>3<\/th>\n",
              "      <td>0309AAAAAAAABEUP<\/td>\n",
              "      <td>2015-02-10<\/td>\n",
              "      <td>2015-02-10<\/td>\n",
              "      <td>M<\/td>\n",
              "      <td><\/td>\n",
              "      <td><\/td>\n",
              "      <td><\/td>\n",
              "      <td>4770<\/td>\n",
              "      <td>95117<\/td>\n",
              "      <td>ALLERGY<\/td>\n",
              "      <td>...<\/td>\n",
              "      <td>2015-03-12<\/td>\n",
              "      <td>P<\/td>\n",
              "      <td>0.00<\/td>\n",
              "      <td>0.0<\/td>\n",
              "      <td>0.0<\/td>\n",
              "      <td>F<\/td>\n",
              "      <td>1996.0<\/td>\n",
              "      <td>MN<\/td>\n",
              "      <td>0 days<\/td>\n",
              "      <td>19.0<\/td>\n",
              "    <\/tr>\n",
              "    <tr>\n",
              "      <th>4<\/th>\n",
              "      <td>0309AAAAAAAABEUP<\/td>\n",
              "      <td>2015-03-03<\/td>\n",
              "      <td>2015-03-03<\/td>\n",
              "      <td>M<\/td>\n",
              "      <td><\/td>\n",
              "      <td><\/td>\n",
              "      <td><\/td>\n",
              "      <td>4770<\/td>\n",
              "      <td>95117<\/td>\n",
              "      <td>ALLERGY<\/td>\n",
              "      <td>...<\/td>\n",
              "      <td>2015-04-02<\/td>\n",
              "      <td>P<\/td>\n",
              "      <td>0.00<\/td>\n",
              "      <td>0.0<\/td>\n",
              "      <td>0.0<\/td>\n",
              "      <td>F<\/td>\n",
              "      <td>1996.0<\/td>\n",
              "      <td>MN<\/td>\n",
              "      <td>0 days<\/td>\n",
              "      <td>19.0<\/td>\n",
              "    <\/tr>\n",
              "    <tr>\n",
              "      <th>...<\/th>\n",
              "      <td>...<\/td>\n",
              "      <td>...<\/td>\n",
              "      <td>...<\/td>\n",
              "      <td>...<\/td>\n",
              "      <td>...<\/td>\n",
              "      <td>...<\/td>\n",
              "      <td>...<\/td>\n",
              "      <td>...<\/td>\n",
              "      <td>...<\/td>\n",
              "      <td>...<\/td>\n",
              "      <td>...<\/td>\n",
              "      <td>...<\/td>\n",
              "      <td>...<\/td>\n",
              "      <td>...<\/td>\n",
              "      <td>...<\/td>\n",
              "      <td>...<\/td>\n",
              "      <td>...<\/td>\n",
              "      <td>...<\/td>\n",
              "      <td>...<\/td>\n",
              "      <td>...<\/td>\n",
              "      <td>...<\/td>\n",
              "    <\/tr>\n",
              "    <tr>\n",
              "      <th>647078<\/th>\n",
              "      <td>s149AAAAAOLPBWLQ<\/td>\n",
              "      <td>2015-11-06<\/td>\n",
              "      <td>2015-11-06<\/td>\n",
              "      <td>A<\/td>\n",
              "      <td><\/td>\n",
              "      <td><\/td>\n",
              "      <td><\/td>\n",
              "      <td>Z0000<\/td>\n",
              "      <td>80050<\/td>\n",
              "      <td>OTHR_SPC<\/td>\n",
              "      <td>...<\/td>\n",
              "      <td>2015-12-06<\/td>\n",
              "      <td>P<\/td>\n",
              "      <td>23.75<\/td>\n",
              "      <td>0.0<\/td>\n",
              "      <td>0.0<\/td>\n",
              "      <td>F<\/td>\n",
              "      <td>1985.0<\/td>\n",
              "      <td>TX<\/td>\n",
              "      <td>0 days<\/td>\n",
              "      <td>30.0<\/td>\n",
              "    <\/tr>\n",
              "    <tr>\n",
              "      <th>647079<\/th>\n",
              "      <td>s149AAAAAOLPBWLQ<\/td>\n",
              "      <td>2015-11-06<\/td>\n",
              "      <td>2015-11-06<\/td>\n",
              "      <td>A<\/td>\n",
              "      <td><\/td>\n",
              "      <td><\/td>\n",
              "      <td><\/td>\n",
              "      <td>Z0000<\/td>\n",
              "      <td>80061<\/td>\n",
              "      <td>OTHR_SPC<\/td>\n",
              "      <td>...<\/td>\n",
              "      <td>2015-12-06<\/td>\n",
              "      <td>P<\/td>\n",
              "      <td>10.05<\/td>\n",
              "      <td>0.0<\/td>\n",
              "      <td>0.0<\/td>\n",
              "      <td>F<\/td>\n",
              "      <td>1985.0<\/td>\n",
              "      <td>TX<\/td>\n",
              "      <td>0 days<\/td>\n",
              "      <td>30.0<\/td>\n",
              "    <\/tr>\n",
              "    <tr>\n",
              "      <th>647080<\/th>\n",
              "      <td>s149AAAAAOLPBWLQ<\/td>\n",
              "      <td>2015-11-06<\/td>\n",
              "      <td>2015-11-06<\/td>\n",
              "      <td>A<\/td>\n",
              "      <td><\/td>\n",
              "      <td><\/td>\n",
              "      <td><\/td>\n",
              "      <td>Z0000<\/td>\n",
              "      <td>83036<\/td>\n",
              "      <td>OTHR_SPC<\/td>\n",
              "      <td>...<\/td>\n",
              "      <td>2015-12-06<\/td>\n",
              "      <td>P<\/td>\n",
              "      <td>7.28<\/td>\n",
              "      <td>0.0<\/td>\n",
              "      <td>0.0<\/td>\n",
              "      <td>F<\/td>\n",
              "      <td>1985.0<\/td>\n",
              "      <td>TX<\/td>\n",
              "      <td>0 days<\/td>\n",
              "      <td>30.0<\/td>\n",
              "    <\/tr>\n",
              "    <tr>\n",
              "      <th>647081<\/th>\n",
              "      <td>s149AAAAAOLPBWLQ<\/td>\n",
              "      <td>2015-11-06<\/td>\n",
              "      <td>2015-11-06<\/td>\n",
              "      <td>A<\/td>\n",
              "      <td><\/td>\n",
              "      <td><\/td>\n",
              "      <td><\/td>\n",
              "      <td>Z0000<\/td>\n",
              "      <td>84436<\/td>\n",
              "      <td>OTHR_SPC<\/td>\n",
              "      <td>...<\/td>\n",
              "      <td>2015-12-06<\/td>\n",
              "      <td>P<\/td>\n",
              "      <td>5.15<\/td>\n",
              "      <td>0.0<\/td>\n",
              "      <td>0.0<\/td>\n",
              "      <td>F<\/td>\n",
              "      <td>1985.0<\/td>\n",
              "      <td>TX<\/td>\n",
              "      <td>0 days<\/td>\n",
              "      <td>30.0<\/td>\n",
              "    <\/tr>\n",
              "    <tr>\n",
              "      <th>647082<\/th>\n",
              "      <td>s149AAAAAOLPBWLQ<\/td>\n",
              "      <td>2015-11-06<\/td>\n",
              "      <td>2015-11-06<\/td>\n",
              "      <td>A<\/td>\n",
              "      <td><\/td>\n",
              "      <td><\/td>\n",
              "      <td><\/td>\n",
              "      <td>Z0000<\/td>\n",
              "      <td>84480<\/td>\n",
              "      <td>OTHR_SPC<\/td>\n",
              "      <td>...<\/td>\n",
              "      <td>2015-12-06<\/td>\n",
              "      <td>P<\/td>\n",
              "      <td>10.64<\/td>\n",
              "      <td>0.0<\/td>\n",
              "      <td>0.0<\/td>\n",
              "      <td>F<\/td>\n",
              "      <td>1985.0<\/td>\n",
              "      <td>TX<\/td>\n",
              "      <td>0 days<\/td>\n",
              "      <td>30.0<\/td>\n",
              "    <\/tr>\n",
              "  <\/tbody>\n",
              "<\/table>\n",
              "<p>647083 rows × 24 columns<\/p>\n",
              "<\/div>"
            ]
          },
          "metadata":{
            
          },
          "output_type":"display_data"
        }
      ],
      "metadata":{
        
      }
    },
    {
      "cell_type":"code",
      "source":[
        "train[numerical_columns + ['pat_age']].describe()"
      ],
      "attachments":{
        
      },
      "execution_count":58,
      "outputs":[
        {
          "data":{
            "text\/html":[
              "<div>\n",
              "<style scoped>\n",
              "    .dataframe tbody tr th:only-of-type {\n",
              "        vertical-align: middle;\n",
              "    }\n",
              "\n",
              "    .dataframe tbody tr th {\n",
              "        vertical-align: top;\n",
              "    }\n",
              "\n",
              "    .dataframe thead th {\n",
              "        text-align: right;\n",
              "    }\n",
              "<\/style>\n",
              "<table border=\"1\" class=\"dataframe\">\n",
              "  <thead>\n",
              "    <tr style=\"text-align: right;\">\n",
              "      <th><\/th>\n",
              "      <th>quan<\/th>\n",
              "      <th>paid<\/th>\n",
              "      <th>copay<\/th>\n",
              "      <th>dispense_fee<\/th>\n",
              "      <th>pat_age<\/th>\n",
              "    <\/tr>\n",
              "  <\/thead>\n",
              "  <tbody>\n",
              "    <tr>\n",
              "      <th>count<\/th>\n",
              "      <td>647083.000000<\/td>\n",
              "      <td>647083.000000<\/td>\n",
              "      <td>647083.000000<\/td>\n",
              "      <td>647083.000000<\/td>\n",
              "      <td>646125.000000<\/td>\n",
              "    <\/tr>\n",
              "    <tr>\n",
              "      <th>mean<\/th>\n",
              "      <td>17.864065<\/td>\n",
              "      <td>108.538459<\/td>\n",
              "      <td>2.466423<\/td>\n",
              "      <td>0.056661<\/td>\n",
              "      <td>40.054793<\/td>\n",
              "    <\/tr>\n",
              "    <tr>\n",
              "      <th>std<\/th>\n",
              "      <td>117.395845<\/td>\n",
              "      <td>1348.420709<\/td>\n",
              "      <td>74.449439<\/td>\n",
              "      <td>0.386681<\/td>\n",
              "      <td>21.468869<\/td>\n",
              "    <\/tr>\n",
              "    <tr>\n",
              "      <th>min<\/th>\n",
              "      <td>-30.000000<\/td>\n",
              "      <td>-714.250000<\/td>\n",
              "      <td>-1717.580000<\/td>\n",
              "      <td>-1.500000<\/td>\n",
              "      <td>-1.000000<\/td>\n",
              "    <\/tr>\n",
              "    <tr>\n",
              "      <th>25%<\/th>\n",
              "      <td>0.000000<\/td>\n",
              "      <td>0.040000<\/td>\n",
              "      <td>0.000000<\/td>\n",
              "      <td>0.000000<\/td>\n",
              "      <td>23.000000<\/td>\n",
              "    <\/tr>\n",
              "    <tr>\n",
              "      <th>50%<\/th>\n",
              "      <td>0.000000<\/td>\n",
              "      <td>13.510000<\/td>\n",
              "      <td>0.000000<\/td>\n",
              "      <td>0.000000<\/td>\n",
              "      <td>44.000000<\/td>\n",
              "    <\/tr>\n",
              "    <tr>\n",
              "      <th>75%<\/th>\n",
              "      <td>15.000000<\/td>\n",
              "      <td>60.000000<\/td>\n",
              "      <td>0.000000<\/td>\n",
              "      <td>0.000000<\/td>\n",
              "      <td>57.000000<\/td>\n",
              "    <\/tr>\n",
              "    <tr>\n",
              "      <th>max<\/th>\n",
              "      <td>21330.000000<\/td>\n",
              "      <td>709682.550000<\/td>\n",
              "      <td>20650.000000<\/td>\n",
              "      <td>18.000000<\/td>\n",
              "      <td>81.000000<\/td>\n",
              "    <\/tr>\n",
              "  <\/tbody>\n",
              "<\/table>\n",
              "<\/div>"
            ]
          },
          "metadata":{
            
          },
          "output_type":"display_data"
        }
      ],
      "metadata":{
        
      }
    },
    {
      "cell_type":"code",
      "source":[
        "train[char_columns].describe()"
      ],
      "attachments":{
        
      },
      "execution_count":70,
      "outputs":[
        {
          "data":{
            "text\/html":[
              "<div>\n",
              "<style scoped>\n",
              "    .dataframe tbody tr th:only-of-type {\n",
              "        vertical-align: middle;\n",
              "    }\n",
              "\n",
              "    .dataframe tbody tr th {\n",
              "        vertical-align: top;\n",
              "    }\n",
              "\n",
              "    .dataframe thead th {\n",
              "        text-align: right;\n",
              "    }\n",
              "<\/style>\n",
              "<table border=\"1\" class=\"dataframe\">\n",
              "  <thead>\n",
              "    <tr style=\"text-align: right;\">\n",
              "      <th><\/th>\n",
              "      <th>pat_id<\/th>\n",
              "      <th>rectype<\/th>\n",
              "      <th>conf_num<\/th>\n",
              "      <th>icdprc1<\/th>\n",
              "      <th>diag_admit<\/th>\n",
              "      <th>diag1<\/th>\n",
              "      <th>proc_cde<\/th>\n",
              "      <th>bill_spec<\/th>\n",
              "      <th>pos<\/th>\n",
              "      <th>ndc<\/th>\n",
              "      <th>formulary<\/th>\n",
              "      <th>pmt_st_cd<\/th>\n",
              "    <\/tr>\n",
              "  <\/thead>\n",
              "  <tbody>\n",
              "    <tr>\n",
              "      <th>count<\/th>\n",
              "      <td>647083<\/td>\n",
              "      <td>647083<\/td>\n",
              "      <td>647083<\/td>\n",
              "      <td>647083<\/td>\n",
              "      <td>647083<\/td>\n",
              "      <td>647083<\/td>\n",
              "      <td>647083<\/td>\n",
              "      <td>647083<\/td>\n",
              "      <td>647083<\/td>\n",
              "      <td>647083<\/td>\n",
              "      <td>647083<\/td>\n",
              "      <td>647083<\/td>\n",
              "    <\/tr>\n",
              "    <tr>\n",
              "      <th>unique<\/th>\n",
              "      <td>18927<\/td>\n",
              "      <td>6<\/td>\n",
              "      <td>1372<\/td>\n",
              "      <td>220<\/td>\n",
              "      <td>661<\/td>\n",
              "      <td>9767<\/td>\n",
              "      <td>5477<\/td>\n",
              "      <td>64<\/td>\n",
              "      <td>39<\/td>\n",
              "      <td>10465<\/td>\n",
              "      <td>5<\/td>\n",
              "      <td>2<\/td>\n",
              "    <\/tr>\n",
              "    <tr>\n",
              "      <th>top<\/th>\n",
              "      <td>pg03AAAAAAHMWUBJ<\/td>\n",
              "      <td>A<\/td>\n",
              "      <td><\/td>\n",
              "      <td><\/td>\n",
              "      <td><\/td>\n",
              "      <td><\/td>\n",
              "      <td><\/td>\n",
              "      <td><\/td>\n",
              "      <td>11<\/td>\n",
              "      <td><\/td>\n",
              "      <td><\/td>\n",
              "      <td>P<\/td>\n",
              "    <\/tr>\n",
              "    <tr>\n",
              "      <th>freq<\/th>\n",
              "      <td>1195<\/td>\n",
              "      <td>266253<\/td>\n",
              "      <td>630453<\/td>\n",
              "      <td>645208<\/td>\n",
              "      <td>643220<\/td>\n",
              "      <td>189869<\/td>\n",
              "      <td>209851<\/td>\n",
              "      <td>207257<\/td>\n",
              "      <td>220673<\/td>\n",
              "      <td>457907<\/td>\n",
              "      <td>542480<\/td>\n",
              "      <td>646961<\/td>\n",
              "    <\/tr>\n",
              "  <\/tbody>\n",
              "<\/table>\n",
              "<\/div>"
            ]
          },
          "metadata":{
            
          },
          "output_type":"display_data"
        }
      ],
      "metadata":{
        
      }
    },
    {
      "cell_type":"code",
      "source":[
        "def find_outliers(x):\n",
        "    q1 = np.percentile(x,25)\n",
        "    q3 = np.percentile(x,75)\n",
        "    iqr = q3-q1\n",
        "    floor = q1 - 1.5*iqr\n",
        "    ceiling = q3 + 1.5*iqr\n",
        "    outlier_indices = list(x.index[(x<floor) | (x > ceiling)])\n",
        "    outlier_values = list(x[outlier_indices])\n",
        "    return outlier_indices, outlier_values"
      ],
      "attachments":{
        
      },
      "execution_count":59,
      "outputs":[
        
      ],
      "metadata":{
        
      }
    },
    {
      "cell_type":"code",
      "source":[
        "train[numerical_columns + ['pat_age']].hist(figsize=(12,10))\n",
        "plt.show()"
      ],
      "attachments":{
        
      },
      "execution_count":60,
      "outputs":[
        {
          "data":{
            "image\/png":"[encoded data removed]"
          },
          "metadata":{
            "image\/png":{
              "width":0,
              "height":0
            }
          },
          "output_type":"display_data"
        }
      ],
      "metadata":{
        
      }
    },
    {
      "cell_type":"code",
      "source":[
        " \n",
        " # Should we drop outliers? \n",
        " for column in numerical_columns: \n",
        "    paid_indices, paid_values = find_outliers(train[column])\n",
        "    print(len(paid_indices))\n",
        "    train.drop(paid_indices, axis=0, inplace=True)\n",
        "\n",
        "train[numerical_columns + ['pat_age']].hist(figsize=(12,10))"
      ],
      "attachments":{
        
      },
      "execution_count":61,
      "outputs":[
        {
          "name":"stdout",
          "text":[
            "74624\n",
            "56574\n",
            "30638\n",
            "7441\n",
            "0\n"
          ],
          "output_type":"stream"
        },
        {
          "data":{
            "text\/plain":[
              "array([[<AxesSubplot:title={'center':'quan'}>,\n",
              "        <AxesSubplot:title={'center':'paid'}>],\n",
              "       [<AxesSubplot:title={'center':'copay'}>,\n",
              "        <AxesSubplot:title={'center':'dispense_fee'}>],\n",
              "       [<AxesSubplot:title={'center':'pat_age'}>, <AxesSubplot:>]],\n",
              "      dtype=object)"
            ],
            "image\/png":"[encoded data removed]"
          },
          "metadata":{
            "image\/png":{
              "width":0,
              "height":0
            }
          },
          "output_type":"display_data"
        }
      ],
      "metadata":{
        
      }
    },
    {
      "cell_type":"code",
      "source":[
        
      ],
      "attachments":{
        
      },
      "execution_count":0,
      "outputs":[
        
      ],
      "metadata":{
        
      }
    },
    {
      "cell_type":"markdown",
      "source":[
        "# Scale Numerical Features"
      ],
      "attachments":{
        
      },
      "metadata":{
        
      }
    },
    {
      "cell_type":"code",
      "source":[
        "from sklearn.preprocessing import MinMaxScaler\n",
        "from sklearn.preprocessing import StandardScaler\n",
        "from sklearn.preprocessing import QuantileTransformer\n",
        "from sklearn.preprocessing import RobustScaler\n",
        "\n",
        "scaler = QuantileTransformer(n_quantiles=10, random_state=0,  output_distribution='normal')"
      ],
      "attachments":{
        
      },
      "execution_count":63,
      "outputs":[
        
      ],
      "metadata":{
        
      }
    },
    {
      "cell_type":"code",
      "source":[
        "for column in numerical_columns: \n",
        "    train[column] = scaler.fit_transform(train[column].values.reshape(-1,1))\n",
        "    price = train[column]\n",
        "\n",
        "\n",
        "train[numerical_columns].hist(figsize=(12,10))"
      ],
      "attachments":{
        
      },
      "execution_count":64,
      "outputs":[
        {
          "data":{
            "text\/plain":[
              "array([[<AxesSubplot:title={'center':'quan'}>,\n",
              "        <AxesSubplot:title={'center':'paid'}>],\n",
              "       [<AxesSubplot:title={'center':'copay'}>,\n",
              "        <AxesSubplot:title={'center':'dispense_fee'}>]], dtype=object)"
            ],
            "image\/png":"[encoded data removed]"
          },
          "metadata":{
            "image\/png":{
              "width":0,
              "height":0
            }
          },
          "output_type":"display_data"
        }
      ],
      "metadata":{
        
      }
    },
    {
      "cell_type":"code",
      "source":[
        
      ],
      "attachments":{
        
      },
      "execution_count":0,
      "outputs":[
        
      ],
      "metadata":{
        
      }
    },
    {
      "cell_type":"markdown",
      "source":[
        "# One Hot Encoding of Categorical Variables"
      ],
      "attachments":{
        
      },
      "metadata":{
        
      }
    },
    {
      "cell_type":"code",
      "source":[
        "import torch\n",
        "import torch.nn as nn\n",
        "import torch.nn.functional as F\n",
        "#Information: https:\/\/pytorch.org\/docs\/stable\/generated\/torch.nn.ModuleList.html\n",
        "# For Multiple Embedding Layers"
      ],
      "attachments":{
        
      },
      "execution_count":0,
      "outputs":[
        
      ],
      "metadata":{
        
      }
    },
    {
      "cell_type":"code",
      "source":[
        "cat_features = ['rectype', 'icdprc1', 'diag_admit', 'diag1', 'proc_cde', 'bill_spec'\n",
        "                , 'pos', 'ndc', 'formulary', 'der_sex', 'der_yob']"
      ],
      "attachments":{
        
      },
      "execution_count":0,
      "outputs":[
        
      ],
      "metadata":{
        
      }
    },
    {
      "cell_type":"code",
      "source":[
        
      ],
      "attachments":{
        
      },
      "execution_count":0,
      "outputs":[
        
      ],
      "metadata":{
        
      }
    },
    {
      "cell_type":"code",
      "source":[
        
      ],
      "attachments":{
        
      },
      "execution_count":0,
      "outputs":[
        
      ],
      "metadata":{
        
      }
    },
    {
      "cell_type":"code",
      "source":[
        "train_copy = train.copy(deep=True)\n",
        "\n",
        "dummies = pd.get_dummies(train_copy['rectype'], prefix='rectype')\n",
        "train_copy = pd.concat([train_copy,dummies], axis = 1)\n"
      ],
      "attachments":{
        
      },
      "execution_count":65,
      "outputs":[
        
      ],
      "metadata":{
        
      }
    },
    {
      "cell_type":"code",
      "source":[
        "train_copy"
      ],
      "attachments":{
        
      },
      "execution_count":66,
      "outputs":[
        {
          "data":{
            "text\/html":[
              "<div>\n",
              "<style scoped>\n",
              "    .dataframe tbody tr th:only-of-type {\n",
              "        vertical-align: middle;\n",
              "    }\n",
              "\n",
              "    .dataframe tbody tr th {\n",
              "        vertical-align: top;\n",
              "    }\n",
              "\n",
              "    .dataframe thead th {\n",
              "        text-align: right;\n",
              "    }\n",
              "<\/style>\n",
              "<table border=\"1\" class=\"dataframe\">\n",
              "  <thead>\n",
              "    <tr style=\"text-align: right;\">\n",
              "      <th><\/th>\n",
              "      <th>pat_id<\/th>\n",
              "      <th>from_dt<\/th>\n",
              "      <th>to_dt<\/th>\n",
              "      <th>rectype<\/th>\n",
              "      <th>conf_num<\/th>\n",
              "      <th>icdprc1<\/th>\n",
              "      <th>diag_admit<\/th>\n",
              "      <th>diag1<\/th>\n",
              "      <th>proc_cde<\/th>\n",
              "      <th>bill_spec<\/th>\n",
              "      <th>...<\/th>\n",
              "      <th>der_yob<\/th>\n",
              "      <th>pat_state<\/th>\n",
              "      <th>duration<\/th>\n",
              "      <th>pat_age<\/th>\n",
              "      <th>rectype_<\/th>\n",
              "      <th>rectype_A<\/th>\n",
              "      <th>rectype_F<\/th>\n",
              "      <th>rectype_M<\/th>\n",
              "      <th>rectype_P<\/th>\n",
              "      <th>rectype_S<\/th>\n",
              "    <\/tr>\n",
              "  <\/thead>\n",
              "  <tbody>\n",
              "    <tr>\n",
              "      <th>0<\/th>\n",
              "      <td>0309AAAAAAAABEUP<\/td>\n",
              "      <td>2015-01-02<\/td>\n",
              "      <td>2015-01-02<\/td>\n",
              "      <td>M<\/td>\n",
              "      <td><\/td>\n",
              "      <td><\/td>\n",
              "      <td><\/td>\n",
              "      <td>7391<\/td>\n",
              "      <td>98941<\/td>\n",
              "      <td>CHIRO<\/td>\n",
              "      <td>...<\/td>\n",
              "      <td>1996.0<\/td>\n",
              "      <td>MN<\/td>\n",
              "      <td>0 days<\/td>\n",
              "      <td>19.0<\/td>\n",
              "      <td>0<\/td>\n",
              "      <td>0<\/td>\n",
              "      <td>0<\/td>\n",
              "      <td>1<\/td>\n",
              "      <td>0<\/td>\n",
              "      <td>0<\/td>\n",
              "    <\/tr>\n",
              "    <tr>\n",
              "      <th>1<\/th>\n",
              "      <td>0309AAAAAAAABEUP<\/td>\n",
              "      <td>2015-01-05<\/td>\n",
              "      <td>2015-01-05<\/td>\n",
              "      <td>M<\/td>\n",
              "      <td><\/td>\n",
              "      <td><\/td>\n",
              "      <td><\/td>\n",
              "      <td>7391<\/td>\n",
              "      <td>98941<\/td>\n",
              "      <td>CHIRO<\/td>\n",
              "      <td>...<\/td>\n",
              "      <td>1996.0<\/td>\n",
              "      <td>MN<\/td>\n",
              "      <td>0 days<\/td>\n",
              "      <td>19.0<\/td>\n",
              "      <td>0<\/td>\n",
              "      <td>0<\/td>\n",
              "      <td>0<\/td>\n",
              "      <td>1<\/td>\n",
              "      <td>0<\/td>\n",
              "      <td>0<\/td>\n",
              "    <\/tr>\n",
              "    <tr>\n",
              "      <th>2<\/th>\n",
              "      <td>0309AAAAAAAABEUP<\/td>\n",
              "      <td>2015-01-20<\/td>\n",
              "      <td>2015-01-20<\/td>\n",
              "      <td>M<\/td>\n",
              "      <td><\/td>\n",
              "      <td><\/td>\n",
              "      <td><\/td>\n",
              "      <td>4770<\/td>\n",
              "      <td>95117<\/td>\n",
              "      <td>ALLERGY<\/td>\n",
              "      <td>...<\/td>\n",
              "      <td>1996.0<\/td>\n",
              "      <td>MN<\/td>\n",
              "      <td>0 days<\/td>\n",
              "      <td>19.0<\/td>\n",
              "      <td>0<\/td>\n",
              "      <td>0<\/td>\n",
              "      <td>0<\/td>\n",
              "      <td>1<\/td>\n",
              "      <td>0<\/td>\n",
              "      <td>0<\/td>\n",
              "    <\/tr>\n",
              "    <tr>\n",
              "      <th>3<\/th>\n",
              "      <td>0309AAAAAAAABEUP<\/td>\n",
              "      <td>2015-02-10<\/td>\n",
              "      <td>2015-02-10<\/td>\n",
              "      <td>M<\/td>\n",
              "      <td><\/td>\n",
              "      <td><\/td>\n",
              "      <td><\/td>\n",
              "      <td>4770<\/td>\n",
              "      <td>95117<\/td>\n",
              "      <td>ALLERGY<\/td>\n",
              "      <td>...<\/td>\n",
              "      <td>1996.0<\/td>\n",
              "      <td>MN<\/td>\n",
              "      <td>0 days<\/td>\n",
              "      <td>19.0<\/td>\n",
              "      <td>0<\/td>\n",
              "      <td>0<\/td>\n",
              "      <td>0<\/td>\n",
              "      <td>1<\/td>\n",
              "      <td>0<\/td>\n",
              "      <td>0<\/td>\n",
              "    <\/tr>\n",
              "    <tr>\n",
              "      <th>4<\/th>\n",
              "      <td>0309AAAAAAAABEUP<\/td>\n",
              "      <td>2015-03-03<\/td>\n",
              "      <td>2015-03-03<\/td>\n",
              "      <td>M<\/td>\n",
              "      <td><\/td>\n",
              "      <td><\/td>\n",
              "      <td><\/td>\n",
              "      <td>4770<\/td>\n",
              "      <td>95117<\/td>\n",
              "      <td>ALLERGY<\/td>\n",
              "      <td>...<\/td>\n",
              "      <td>1996.0<\/td>\n",
              "      <td>MN<\/td>\n",
              "      <td>0 days<\/td>\n",
              "      <td>19.0<\/td>\n",
              "      <td>0<\/td>\n",
              "      <td>0<\/td>\n",
              "      <td>0<\/td>\n",
              "      <td>1<\/td>\n",
              "      <td>0<\/td>\n",
              "      <td>0<\/td>\n",
              "    <\/tr>\n",
              "    <tr>\n",
              "      <th>...<\/th>\n",
              "      <td>...<\/td>\n",
              "      <td>...<\/td>\n",
              "      <td>...<\/td>\n",
              "      <td>...<\/td>\n",
              "      <td>...<\/td>\n",
              "      <td>...<\/td>\n",
              "      <td>...<\/td>\n",
              "      <td>...<\/td>\n",
              "      <td>...<\/td>\n",
              "      <td>...<\/td>\n",
              "      <td>...<\/td>\n",
              "      <td>...<\/td>\n",
              "      <td>...<\/td>\n",
              "      <td>...<\/td>\n",
              "      <td>...<\/td>\n",
              "      <td>...<\/td>\n",
              "      <td>...<\/td>\n",
              "      <td>...<\/td>\n",
              "      <td>...<\/td>\n",
              "      <td>...<\/td>\n",
              "      <td>...<\/td>\n",
              "    <\/tr>\n",
              "    <tr>\n",
              "      <th>647078<\/th>\n",
              "      <td>s149AAAAAOLPBWLQ<\/td>\n",
              "      <td>2015-11-06<\/td>\n",
              "      <td>2015-11-06<\/td>\n",
              "      <td>A<\/td>\n",
              "      <td><\/td>\n",
              "      <td><\/td>\n",
              "      <td><\/td>\n",
              "      <td>Z0000<\/td>\n",
              "      <td>80050<\/td>\n",
              "      <td>OTHR_SPC<\/td>\n",
              "      <td>...<\/td>\n",
              "      <td>1985.0<\/td>\n",
              "      <td>TX<\/td>\n",
              "      <td>0 days<\/td>\n",
              "      <td>30.0<\/td>\n",
              "      <td>0<\/td>\n",
              "      <td>1<\/td>\n",
              "      <td>0<\/td>\n",
              "      <td>0<\/td>\n",
              "      <td>0<\/td>\n",
              "      <td>0<\/td>\n",
              "    <\/tr>\n",
              "    <tr>\n",
              "      <th>647079<\/th>\n",
              "      <td>s149AAAAAOLPBWLQ<\/td>\n",
              "      <td>2015-11-06<\/td>\n",
              "      <td>2015-11-06<\/td>\n",
              "      <td>A<\/td>\n",
              "      <td><\/td>\n",
              "      <td><\/td>\n",
              "      <td><\/td>\n",
              "      <td>Z0000<\/td>\n",
              "      <td>80061<\/td>\n",
              "      <td>OTHR_SPC<\/td>\n",
              "      <td>...<\/td>\n",
              "      <td>1985.0<\/td>\n",
              "      <td>TX<\/td>\n",
              "      <td>0 days<\/td>\n",
              "      <td>30.0<\/td>\n",
              "      <td>0<\/td>\n",
              "      <td>1<\/td>\n",
              "      <td>0<\/td>\n",
              "      <td>0<\/td>\n",
              "      <td>0<\/td>\n",
              "      <td>0<\/td>\n",
              "    <\/tr>\n",
              "    <tr>\n",
              "      <th>647080<\/th>\n",
              "      <td>s149AAAAAOLPBWLQ<\/td>\n",
              "      <td>2015-11-06<\/td>\n",
              "      <td>2015-11-06<\/td>\n",
              "      <td>A<\/td>\n",
              "      <td><\/td>\n",
              "      <td><\/td>\n",
              "      <td><\/td>\n",
              "      <td>Z0000<\/td>\n",
              "      <td>83036<\/td>\n",
              "      <td>OTHR_SPC<\/td>\n",
              "      <td>...<\/td>\n",
              "      <td>1985.0<\/td>\n",
              "      <td>TX<\/td>\n",
              "      <td>0 days<\/td>\n",
              "      <td>30.0<\/td>\n",
              "      <td>0<\/td>\n",
              "      <td>1<\/td>\n",
              "      <td>0<\/td>\n",
              "      <td>0<\/td>\n",
              "      <td>0<\/td>\n",
              "      <td>0<\/td>\n",
              "    <\/tr>\n",
              "    <tr>\n",
              "      <th>647081<\/th>\n",
              "      <td>s149AAAAAOLPBWLQ<\/td>\n",
              "      <td>2015-11-06<\/td>\n",
              "      <td>2015-11-06<\/td>\n",
              "      <td>A<\/td>\n",
              "      <td><\/td>\n",
              "      <td><\/td>\n",
              "      <td><\/td>\n",
              "      <td>Z0000<\/td>\n",
              "      <td>84436<\/td>\n",
              "      <td>OTHR_SPC<\/td>\n",
              "      <td>...<\/td>\n",
              "      <td>1985.0<\/td>\n",
              "      <td>TX<\/td>\n",
              "      <td>0 days<\/td>\n",
              "      <td>30.0<\/td>\n",
              "      <td>0<\/td>\n",
              "      <td>1<\/td>\n",
              "      <td>0<\/td>\n",
              "      <td>0<\/td>\n",
              "      <td>0<\/td>\n",
              "      <td>0<\/td>\n",
              "    <\/tr>\n",
              "    <tr>\n",
              "      <th>647082<\/th>\n",
              "      <td>s149AAAAAOLPBWLQ<\/td>\n",
              "      <td>2015-11-06<\/td>\n",
              "      <td>2015-11-06<\/td>\n",
              "      <td>A<\/td>\n",
              "      <td><\/td>\n",
              "      <td><\/td>\n",
              "      <td><\/td>\n",
              "      <td>Z0000<\/td>\n",
              "      <td>84480<\/td>\n",
              "      <td>OTHR_SPC<\/td>\n",
              "      <td>...<\/td>\n",
              "      <td>1985.0<\/td>\n",
              "      <td>TX<\/td>\n",
              "      <td>0 days<\/td>\n",
              "      <td>30.0<\/td>\n",
              "      <td>0<\/td>\n",
              "      <td>1<\/td>\n",
              "      <td>0<\/td>\n",
              "      <td>0<\/td>\n",
              "      <td>0<\/td>\n",
              "      <td>0<\/td>\n",
              "    <\/tr>\n",
              "  <\/tbody>\n",
              "<\/table>\n",
              "<p>647083 rows × 30 columns<\/p>\n",
              "<\/div>"
            ]
          },
          "metadata":{
            
          },
          "output_type":"display_data"
        }
      ],
      "metadata":{
        
      }
    },
    {
      "cell_type":"code",
      "source":[
        "dx_lookup = pd.read_table(DATA_PATH+\"pp_dx_lookup.dat\",delimiter=\"|\")"
      ],
      "attachments":{
        
      },
      "execution_count":71,
      "outputs":[
        
      ],
      "metadata":{
        
      }
    },
    {
      "cell_type":"code",
      "source":[
        "dx_lookup"
      ],
      "attachments":{
        
      },
      "execution_count":72,
      "outputs":[
        {
          "data":{
            "text\/html":[
              "<div>\n",
              "<style scoped>\n",
              "    .dataframe tbody tr th:only-of-type {\n",
              "        vertical-align: middle;\n",
              "    }\n",
              "\n",
              "    .dataframe tbody tr th {\n",
              "        vertical-align: top;\n",
              "    }\n",
              "\n",
              "    .dataframe thead th {\n",
              "        text-align: right;\n",
              "    }\n",
              "<\/style>\n",
              "<table border=\"1\" class=\"dataframe\">\n",
              "  <thead>\n",
              "    <tr style=\"text-align: right;\">\n",
              "      <th><\/th>\n",
              "      <th>dx_cd<\/th>\n",
              "      <th>diagnosis<\/th>\n",
              "      <th>diagnosis_desc<\/th>\n",
              "      <th>diag_vers_typ_id<\/th>\n",
              "    <\/tr>\n",
              "  <\/thead>\n",
              "  <tbody>\n",
              "    <tr>\n",
              "      <th>0<\/th>\n",
              "      <td>7889<\/td>\n",
              "      <td>788.9<\/td>\n",
              "      <td>OTHER SYMPTOMS INVOLVING URINARY SYSTEM<\/td>\n",
              "      <td>1<\/td>\n",
              "    <\/tr>\n",
              "    <tr>\n",
              "      <th>1<\/th>\n",
              "      <td>78053<\/td>\n",
              "      <td>780.53<\/td>\n",
              "      <td>HYPERSOMNIA WITH SLEEP APNEA, UNSPECIFIED<\/td>\n",
              "      <td>1<\/td>\n",
              "    <\/tr>\n",
              "    <tr>\n",
              "      <th>2<\/th>\n",
              "      <td>70710<\/td>\n",
              "      <td>707.10<\/td>\n",
              "      <td>UNSPECIFIED ULCER OF LOWER LIMB<\/td>\n",
              "      <td>1<\/td>\n",
              "    <\/tr>\n",
              "    <tr>\n",
              "      <th>3<\/th>\n",
              "      <td>78902<\/td>\n",
              "      <td>789.02<\/td>\n",
              "      <td>ABDOMINAL PAIN, LEFT UPPER QUADRANT<\/td>\n",
              "      <td>1<\/td>\n",
              "    <\/tr>\n",
              "    <tr>\n",
              "      <th>4<\/th>\n",
              "      <td>2948<\/td>\n",
              "      <td>294.8<\/td>\n",
              "      <td>OTHER PERSISTENT MENTAL DISORDERS DUE TO CONDI...<\/td>\n",
              "      <td>1<\/td>\n",
              "    <\/tr>\n",
              "    <tr>\n",
              "      <th>...<\/th>\n",
              "      <td>...<\/td>\n",
              "      <td>...<\/td>\n",
              "      <td>...<\/td>\n",
              "      <td>...<\/td>\n",
              "    <\/tr>\n",
              "    <tr>\n",
              "      <th>95196<\/th>\n",
              "      <td>V8052<\/td>\n",
              "      <td>V80.52<\/td>\n",
              "      <td>OCCUPANT OF ANIMAL-DRAWN VEHICLE INJURED IN CO...<\/td>\n",
              "      <td>2<\/td>\n",
              "    <\/tr>\n",
              "    <tr>\n",
              "      <th>95197<\/th>\n",
              "      <td>T505X2S<\/td>\n",
              "      <td>T50.5X2S<\/td>\n",
              "      <td>POISONING BY APPETITE DEPRESSANTS, INTENTIONAL...<\/td>\n",
              "      <td>2<\/td>\n",
              "    <\/tr>\n",
              "    <tr>\n",
              "      <th>95198<\/th>\n",
              "      <td>B171<\/td>\n",
              "      <td>B17.1<\/td>\n",
              "      <td>ACUTE HEPATITIS C<\/td>\n",
              "      <td>2<\/td>\n",
              "    <\/tr>\n",
              "    <tr>\n",
              "      <th>95199<\/th>\n",
              "      <td>T50Z16S<\/td>\n",
              "      <td>T50.Z16S<\/td>\n",
              "      <td>UNDERDOSING OF IMMUNOGLOBULIN, SEQUELA<\/td>\n",
              "      <td>2<\/td>\n",
              "    <\/tr>\n",
              "    <tr>\n",
              "      <th>95200<\/th>\n",
              "      <td>S86229S<\/td>\n",
              "      <td>S86.229S<\/td>\n",
              "      <td>LACERATION OF MUSCLE(S) AND TENDON(S) OF ANTER...<\/td>\n",
              "      <td>2<\/td>\n",
              "    <\/tr>\n",
              "  <\/tbody>\n",
              "<\/table>\n",
              "<p>95201 rows × 4 columns<\/p>\n",
              "<\/div>"
            ]
          },
          "metadata":{
            
          },
          "output_type":"display_data"
        }
      ],
      "metadata":{
        
      }
    },
    {
      "cell_type":"code",
      "source":[
        
      ],
      "attachments":{
        
      },
      "execution_count":null,
      "outputs":[
        
      ],
      "metadata":{
        
      }
    }
  ],
  "metadata":{
    
  },
  "nbformat":4,
  "nbformat_minor":0
}